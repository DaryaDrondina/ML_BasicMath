{
 "cells": [
  {
   "cell_type": "markdown",
   "metadata": {},
   "source": [
    "### Задание №1"
   ]
  },
  {
   "cell_type": "code",
   "execution_count": 1,
   "metadata": {},
   "outputs": [],
   "source": [
    "import numpy as np"
   ]
  },
  {
   "cell_type": "code",
   "execution_count": 10,
   "metadata": {},
   "outputs": [],
   "source": [
    "def l2_norm(vector):\n",
    "    length = np.linalg.norm(vector) # по умолчанию вычисляется L2\n",
    "    length = round(float(length))\n",
    "    print(length)"
   ]
  },
  {
   "cell_type": "markdown",
   "metadata": {},
   "source": [
    "### Задание №2"
   ]
  },
  {
   "cell_type": "code",
   "execution_count": 26,
   "metadata": {},
   "outputs": [],
   "source": [
    "def add_vectors(arr1, arr2):\n",
    "    length_1 = len(arr1)\n",
    "    length_2 = len(arr2)\n",
    "    if length_1 ==  length_2:\n",
    "        v_sum = arr1 + arr2\n",
    "        print(v_sum)\n",
    "    else:\n",
    "        print('None') "
   ]
  },
  {
   "cell_type": "markdown",
   "metadata": {},
   "source": [
    "### Задание №3"
   ]
  },
  {
   "cell_type": "code",
   "execution_count": 29,
   "metadata": {},
   "outputs": [],
   "source": [
    "def scalar_product(arr1, arr2):\n",
    "    length_1 = len(arr1)\n",
    "    length_2 = len(arr2)\n",
    "    if (length_1 == length_2) and (length_1 != 0) and (length_2 !=0):\n",
    "        dot_product = np.dot(arr1, arr2)\n",
    "        print(dot_product)\n",
    "    else:\n",
    "        print('None') \n",
    "    "
   ]
  },
  {
   "cell_type": "markdown",
   "metadata": {},
   "source": [
    "### Задание №4"
   ]
  },
  {
   "cell_type": "code",
   "execution_count": 33,
   "metadata": {},
   "outputs": [],
   "source": [
    "def cosine_distance(arr1, arr2):\n",
    "    length_1 = len(arr1)\n",
    "    length_2 = len(arr2)\n",
    "    if (length_1 == length_2) and (length_1 != 0) and (length_2 !=0):\n",
    "        cosine_distance = 1 - np.dot(arr1, arr2) / (np.linalg.norm(arr1) * np.linalg.norm(arr2))\n",
    "        print(cosine_distance)\n",
    "    else:\n",
    "        print('None') "
   ]
  },
  {
   "cell_type": "markdown",
   "metadata": {},
   "source": [
    "### Задание №5"
   ]
  },
  {
   "cell_type": "code",
   "execution_count": 39,
   "metadata": {},
   "outputs": [],
   "source": [
    "def is_empty(arr):\n",
    "    return arr.size == 0\n",
    "\n",
    "def add_arrays(arr1, arr2):\n",
    "    len_1 = is_empty(arr1)\n",
    "    len_2 = is_empty(arr2)\n",
    "    if (len_1 == len_2) and ((len_1 and len_2) == False):\n",
    "        C = arr1 + arr2 \n",
    "        print(\"Результат сложения двух матриц:\")\n",
    "        print(C)\n",
    "    else: \n",
    "        print('None') "
   ]
  },
  {
   "cell_type": "markdown",
   "metadata": {},
   "source": [
    "### Задание №6"
   ]
  },
  {
   "cell_type": "code",
   "execution_count": 53,
   "metadata": {},
   "outputs": [],
   "source": [
    "def matrix_multiply(a, b):\n",
    "        size_1 = a.shape[1]\n",
    "        size_2 = b.shape[0]\n",
    "        if size_1 == size_2:\n",
    "                D = a @ b\n",
    "                print(\"Результат умножения матриц:\")\n",
    "                print(D)  \n",
    "        else:\n",
    "               print('None')  "
   ]
  },
  {
   "cell_type": "markdown",
   "metadata": {},
   "source": [
    "### Задание №7"
   ]
  },
  {
   "cell_type": "code",
   "execution_count": 63,
   "metadata": {},
   "outputs": [],
   "source": [
    "def determinant(arr):\n",
    "    size_1 = arr.shape[0]\n",
    "    size_2 = arr.shape[1]\n",
    "    if size_1 == size_2:\n",
    "        det_arr = round(np.linalg.det(arr))\n",
    "        print(det_arr)\n",
    "    else:\n",
    "        print('None')  "
   ]
  },
  {
   "cell_type": "markdown",
   "metadata": {},
   "source": [
    "### Задание №8"
   ]
  },
  {
   "cell_type": "code",
   "execution_count": 1,
   "metadata": {},
   "outputs": [],
   "source": [
    "import sympy as sp"
   ]
  },
  {
   "cell_type": "code",
   "execution_count": 15,
   "metadata": {},
   "outputs": [],
   "source": [
    "df_dx = 0\n",
    "def calculate_dderivative(x: float):\n",
    "# Определяем символьную переменную\n",
    "    X = sp.Symbol('x')\n",
    "\n",
    "# Определяем функцию\n",
    "    y = ((7*X**3)/3)-((5*X**2)/2)\n",
    "# Вычисляем производную функции\n",
    "    dy_dx = y.diff(X)\n",
    "\n",
    "# Вычисляем значение производной в точке x = 2\n",
    "    dy_dx_value = dy_dx.subs(X, x)\n",
    "\n",
    "# Выводим результат\n",
    "    print(dy_dx_value)"
   ]
  }
 ],
 "metadata": {
  "kernelspec": {
   "display_name": "Python 3",
   "language": "python",
   "name": "python3"
  },
  "language_info": {
   "codemirror_mode": {
    "name": "ipython",
    "version": 3
   },
   "file_extension": ".py",
   "mimetype": "text/x-python",
   "name": "python",
   "nbconvert_exporter": "python",
   "pygments_lexer": "ipython3",
   "version": "3.9.10"
  },
  "orig_nbformat": 4
 },
 "nbformat": 4,
 "nbformat_minor": 2
}
