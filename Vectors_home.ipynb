{
 "cells": [
  {
   "cell_type": "code",
   "execution_count": 2,
   "metadata": {},
   "outputs": [],
   "source": [
    "import numpy as np"
   ]
  },
  {
   "cell_type": "code",
   "execution_count": 3,
   "metadata": {},
   "outputs": [
    {
     "name": "stdout",
     "output_type": "stream",
     "text": [
      "Расстояние между векторами по норме L2:  5.0\n"
     ]
    }
   ],
   "source": [
    "# Определение двух векторов\n",
    "v1 = np.array([1,2,2])\n",
    "v2 = np.array([1,5,6])\n",
    "\n",
    "# Вычисление расстояния между векторами по норме L2\n",
    "distance = np.linalg.norm(v2 - v1)\n",
    "\n",
    "# Вывод результата\n",
    "print(\"Расстояние между векторами по норме L2: \", distance)"
   ]
  }
 ],
 "metadata": {
  "kernelspec": {
   "display_name": "Python 3",
   "language": "python",
   "name": "python3"
  },
  "language_info": {
   "codemirror_mode": {
    "name": "ipython",
    "version": 3
   },
   "file_extension": ".py",
   "mimetype": "text/x-python",
   "name": "python",
   "nbconvert_exporter": "python",
   "pygments_lexer": "ipython3",
   "version": "3.9.10"
  },
  "orig_nbformat": 4
 },
 "nbformat": 4,
 "nbformat_minor": 2
}
